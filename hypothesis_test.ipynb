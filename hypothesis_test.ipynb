{
 "cells": [
  {
   "cell_type": "markdown",
   "metadata": {},
   "source": [
    "## Utils"
   ]
  },
  {
   "cell_type": "code",
   "execution_count": null,
   "metadata": {},
   "outputs": [],
   "source": [
    "import numpy as np\n",
    "import matplotlib.pyplot as plt\n",
    "import scipy.stats as stats"
   ]
  },
  {
   "cell_type": "code",
   "execution_count": null,
   "metadata": {},
   "outputs": [],
   "source": [
    "def binomail_hyp_test(p0, n, n_success, sig_level=None):\n",
    "    \n",
    "    sig_level = 0.05 if not sig_level else sig_level\n",
    "    \n",
    "    sample_mean = n_success/n\n",
    "    population_variance = p0*(1-p0)/n\n",
    "    population_sd = np.sqrt(population_variance)\n",
    "    \n",
    "    print('Initial results ---------------------------------------------------------')\n",
    "    print('\\tLet X_i be a Bernoulli with p that indicates whether an event happens or not\\n')\n",
    "    print('\\tLet X = X_1 + ··· + X_n. X follows a Binom(n, p) which Var = n*p*(1-p)\\n')\n",
    "    print('\\tLet p_hat = X/n. p_hat follows a Binom(n/p, p) which Var = p*(1-p)/n\\n')\n",
    "    print('\\tWhen n is large, p_hat can be approximated by a Norm(p, p*(1-p)/n)\\n')\n",
    "    \n",
    "    print('Hypothesis test ---------------------------------------------------------')\n",
    "    print('\\tH0: p={} \\n\\t  vs\\n\\tH1: p<{}'.format(p0, p0))\n",
    "    \n",
    "    print('\\nStatistics --------------------------------------------------------------')\n",
    "    print('\\tSample Mean: {}'.format(sample_mean))\n",
    "    print('\\tp0: {}'.format(p0))\n",
    "    \n",
    "    print('\\nPlots -------------------------------------------------------------------')\n",
    "    q = stats.norm.ppf(sig_level, 0, 1)\n",
    "    \n",
    "    x = np.linspace(p0 - 3*population_sd, p0 + 3*population_sd, 1000)\n",
    "    y = stats.norm.pdf(x, p0, population_sd)\n",
    "\n",
    "    print('\\t Under H0, p_hat follows a Norm({}, {})'.format(p0, population_variance))\n",
    "    plt.plot(x, y)\n",
    "    plt.title('Probability distribution for p_hat under H0')\n",
    "    \n",
    "    plt.axvline(x=sample_mean, color='k', linestyle='--')\n",
    "    plt.text(sample_mean+0.05*np.abs(sample_mean), np.mean(y), 'Sample Mean', rotation=90)\n",
    "    \n",
    "    plt.axvline(x=p0, color='k', linestyle='--')\n",
    "    plt.text(p0+0.05*np.abs(p0), np.mean(y), 'p0', rotation=90)\n",
    "    \n",
    "    plt.show()\n",
    "    \n",
    "    print('\\tGiven the sample, the value of p_hat is: {:.5}'.format(sample_mean))\n",
    "    print('\\tsample mean - p0 = {:.5}'.format(sample_mean - p0))\n",
    "    \n",
    "    print('\\nDiscrepancy statistic -----------------------------------------------------')\n",
    "    print('\\td = (p_hat - p0)/sqrt(p0 * (1 - p0)/n)')\n",
    "    print('\\tUnder H0, d follows a N(0,1)')\n",
    "    \n",
    "    t_n = (sample_mean - p0)/np.sqrt(p0*(1-p0)/n)\n",
    "    p_val = stats.norm.cdf(t_n, 0, 1)\n",
    "    \n",
    "    x = np.linspace(0 - 3*1, 0 + 3*1, 1000)\n",
    "    y = stats.norm.pdf(x, 0, 1)\n",
    "    \n",
    "    plt.plot(x, y)\n",
    "    plt.title('Probability distribution for d under H0')\n",
    "    \n",
    "    plt.axvline(x=t_n, color='k', linestyle='--')\n",
    "    plt.text(t_n+0.05*np.abs(t_n), np.mean(y), 't_n for the sample', rotation=90)\n",
    "    \n",
    "    plt.axvline(x=q, color='k', linestyle='--')\n",
    "    plt.text(q+0.05*np.abs(q), np.mean(y), 'Upper limit rej. area', rotation=90)\n",
    "    \n",
    "    plt.show()\n",
    "    \n",
    "    \n",
    "    print('\\tValue of d for the given sample: d_sample = {}'.format(t_n))\n",
    "    print('\\tRejection area (in terms of d) = {' + 'values for d such that d<= {:.4f}'.format(q) + '}')\n",
    "    print('\\tAccepted area  (in terms of d) = {' + 'values for d such that d> {:.4f}'.format(q) + '}')\n",
    "    print('\\tp-value = Prob(d|H0 <= d_sample) =  {:.4f}'.format(p_val))\n",
    "    print(\"\\n\")\n",
    "    print('\\tRejection area (in terms of p_hat):') \n",
    "    print('\\t{(x_1, x_2, ..., x_n) such that ' + 'p_hat = (x_1 + x_2 + ··· + x_n)/n<= {:.4f}'.format(q*population_sd+p0) + '}')\n",
    "    "
   ]
  },
  {
   "cell_type": "code",
   "execution_count": null,
   "metadata": {},
   "outputs": [],
   "source": [
    "def power_function_report(p0, p, n, sig_level=None):\n",
    "    sig_level = 0.05 if not sig_level else sig_level\n",
    "    \n",
    "    def calculate_power(p):\n",
    "        q = stats.norm.ppf(sig_level, 0, 1)\n",
    "        num = q * np.sqrt(p0*(1-p0)/n) + p0 - p\n",
    "        denum = np.sqrt(p*(1-p)/n)\n",
    "        pf_p0_p = stats.norm.cdf(num/denum)\n",
    "        return pf_p0_p\n",
    "    \n",
    "    def generate_power_function():\n",
    "        p_ini = p0 - 0.7*p0 if p0 - 0.7*p0 >=0 else 0\n",
    "        p_end = p0 + 0.1*p0 if p0 - 0.1*p0 <= 1 else 1\n",
    "        \n",
    "        steps = 10**4\n",
    "        h = (p_end - p_ini)/steps\n",
    "        probs = []\n",
    "        pf = []\n",
    "        i = 0\n",
    "        \n",
    "        while(i<steps):\n",
    "            prob_i = p_ini + i*h\n",
    "            probs.append(prob_i)\n",
    "            pf.append(calculate_power(p=prob_i))\n",
    "            i = i + 1\n",
    "            \n",
    "        return probs, pf\n",
    "        \n",
    "    sample_power = calculate_power(p=p)\n",
    "    \n",
    "    print('Initial results ---------------------------------------------------------')\n",
    "    print('\\tPF = Power function = Prob(reject H0 | p)\\n')\n",
    "    print('\\tWhen p belongs to the rejection area we have the following result:\\n') \n",
    "    print('\\tPF = Prob(reject H0 | H0 is false) =')\n",
    "    print('\\t1 - Prob(accept H0 | H0 is false) =')\n",
    "    print('\\t1 - Prob(error type II)\\n')\n",
    "    \n",
    "    print('Hypothesis test ---------------------------------------------------------')\n",
    "    print('\\tH0: p={} \\n\\t  vs\\n\\tH1: p<{}\\n'.format(p0, p0))\n",
    "    \n",
    "    \n",
    "    print('Plot --------------------------------------------------------------------')\n",
    "    probs, pf = generate_power_function()\n",
    "    plt.axvline(x=p0, color='k', linestyle='--')\n",
    "    plt.text(p0+0.0001*np.abs(p0), np.mean(pf), 'p0', rotation=90)\n",
    "    \n",
    "    pf_p0 = calculate_power(p=p0)\n",
    "    plt.axhline(y=pf_p0, color='k', linestyle='--')\n",
    "    plt.text(np.mean(probs), pf_p0+0.3*pf_p0, round(pf_p0, 4))\n",
    "    \n",
    "    plt.plot(probs, pf)\n",
    "    plt.show()\n",
    "    \n",
    "    print('Stats --------------------------------------------------------------------')\n",
    "    print('\\tGiven p={}, the associated power is: {}'.format(p, sample_power))"
   ]
  },
  {
   "cell_type": "markdown",
   "metadata": {},
   "source": [
    "## Assumtions\n",
    "- The development of this notebook assumes that the significance level, $\\alpha$ is 0.05:\n",
    "$$\\alpha = 0.05 = Prob(\\text{reject } H_0 | H_0 \\text{ is true}) = Prob(\\text{error type I}) = $$\n",
    "$$ Prob(\\text{see an effect when actually there is no effect})$$"
   ]
  },
  {
   "cell_type": "markdown",
   "metadata": {},
   "source": [
    "## First situation\n",
    "\n",
    "The company we work for produces digital cameras. The error made during the process of manufacturing is $p_0$=0.01. It means that out of 100 cameras, 1 is faulty. \n",
    "\n",
    "In order to lower the error we review the whole process. Some \"weak\" points are detected and fixed. To see if the error is lower than 0.001, we made the following experiment: 5000 cameras are procuded and inspected. 3 out of these 5000 are faulty, which means that 3/5000 = 0.0006, which is lower than 0.001. Is the new error rate $p$ (which is unknown) lower than the original one ($p_0$=0.01)?\n",
    "\n",
    "In order to anser this question we perform and hypothesis test:\n",
    "\n",
    " \\begin{cases} \n",
    "     H_0 & p= 0.01 \\\\\n",
    "     H_1 & p\\lt 0.01\n",
    "\\end{cases}\n",
    "\n",
    "We want a test with a 95% significance level."
   ]
  },
  {
   "cell_type": "code",
   "execution_count": null,
   "metadata": {},
   "outputs": [],
   "source": [
    "binomail_hyp_test(p0=0.001, n=5000, n_success=3, sig_level=0.05)"
   ]
  },
  {
   "cell_type": "markdown",
   "metadata": {},
   "source": [
    "## Second situation\n",
    "\n",
    "The company we work for produces digital cameras. The error made during the process of manufacturing is $p_0$=0.02. It means that out of 100 cameras, 2 are faulty. \n",
    "\n",
    "In order to lower the error we review the whole process. Some \"weak\" points are detected and fixed. To see if the error is lower than 0.002, we made the following experiment: 5000 cameras are procuded and inspected. 3 out of these 5000 are faulty, which means that 3/5000 = 0.0006, which is lower than 0.002. Is the new error rate $p$ (which is unknown) lower than the original one ($p_0$=0.02)?\n",
    "\n",
    "In order to anser this question we perform and hypothesis test:\n",
    "\n",
    " \\begin{cases} \n",
    "     H_0 & p= 0.02 \\\\\n",
    "     H_1 & p\\lt 0.02\n",
    "\\end{cases}\n",
    "\n",
    "We want a test with a 95% significance level."
   ]
  },
  {
   "cell_type": "code",
   "execution_count": null,
   "metadata": {},
   "outputs": [],
   "source": [
    "binomail_hyp_test(p0=0.002, n=5000, n_success=3)"
   ]
  },
  {
   "cell_type": "code",
   "execution_count": null,
   "metadata": {},
   "outputs": [],
   "source": [
    "power_function_report(p0=0.002, p=3/5000, n=5000, sig_level=0.05)"
   ]
  }
 ],
 "metadata": {
  "kernelspec": {
   "display_name": "Python 3",
   "language": "python",
   "name": "python3"
  },
  "language_info": {
   "codemirror_mode": {
    "name": "ipython",
    "version": 3
   },
   "file_extension": ".py",
   "mimetype": "text/x-python",
   "name": "python",
   "nbconvert_exporter": "python",
   "pygments_lexer": "ipython3",
   "version": "3.7.3"
  }
 },
 "nbformat": 4,
 "nbformat_minor": 4
}
